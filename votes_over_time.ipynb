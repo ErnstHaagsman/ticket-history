{
 "cells": [
  {
   "cell_type": "code",
   "execution_count": 6,
   "metadata": {
    "collapsed": true
   },
   "outputs": [],
   "source": [
    "# Set desired ticket ID\n",
    "ticket_id = 'PY-1706'\n",
    "\n",
    "# Request history XML\n",
    "import requests\n",
    "import auth\n",
    "url = 'https://youtrack.jetbrains.com/rest/issue/{}/history'.format(ticket_id)\n",
    "r = requests.get(url, auth=(auth.username,auth.password))\n",
    "\n",
    "# Load the XML\n",
    "import xml.etree.ElementTree as ET\n",
    "tree = ET.fromstring(r.content)\n",
    "\n",
    "# each version of the issue is in an 'issue' tag\n",
    "from datetime import datetime\n",
    "updates = [issue for issue in tree]\n",
    "votes_over_time = {}\n",
    "\n",
    "\n",
    "def ms_to_s(ms):\n",
    "    return int(ms) // 1000\n",
    "\n",
    "\n",
    "def field_by_name(parent, name):\n",
    "    # YouTrack describes a version with a set of 'field' elements which are identified\n",
    "    # by the 'name' attribute\n",
    "    #\n",
    "    # The updated time is stored in field[name=updated]\n",
    "    xpath = \"*[@name='{}']\".format(name)\n",
    "    fields = parent.findall(xpath)\n",
    "\n",
    "    # Fields names are supposed to be unique, therefore take the 0th element\n",
    "    # of the list of found fields\n",
    "\n",
    "    if len(fields) < 1:\n",
    "        raise KeyError('Could not find key: ' + name)\n",
    "\n",
    "    return fields[0]\n",
    "\n",
    "\n",
    "# extract updates over time from the XML\n",
    "for update in updates:\n",
    "    try:\n",
    "        # \"Updated\" time is in field[name=updated]\n",
    "        updated_time_field = field_by_name(update, 'updated')\n",
    "        # The actual value is stored in a 'value' child element\n",
    "        # with a 'SingleField' like 'updated', there's only one\n",
    "        # 'value' child element\n",
    "        updated_time_ms = updated_time_field.find('value').text\n",
    "\n",
    "        # get the datetime\n",
    "        updated = datetime.utcfromtimestamp(ms_to_s(updated_time_ms))\n",
    "\n",
    "        voter_name_fields = field_by_name(update, 'voterName')\n",
    "        voters = [field.text for field in voter_name_fields]\n",
    "\n",
    "        votes_over_time[updated] = voters\n",
    "    except KeyError as e:\n",
    "        print(e)"
   ]
  },
  {
   "cell_type": "code",
   "execution_count": 7,
   "metadata": {
    "collapsed": false
   },
   "outputs": [],
   "source": [
    "import pandas as pd\n",
    "\n",
    "counts_over_time = {}\n",
    "\n",
    "for date, votes in votes_over_time.items():\n",
    "    counts_over_time[pd.to_datetime(date)] = len(votes)"
   ]
  },
  {
   "cell_type": "code",
   "execution_count": 8,
   "metadata": {
    "collapsed": true
   },
   "outputs": [],
   "source": [
    "counts_series = pd.Series(list(counts_over_time.values()), index=counts_over_time.keys())"
   ]
  },
  {
   "cell_type": "code",
   "execution_count": 9,
   "metadata": {
    "collapsed": false
   },
   "outputs": [
    {
     "data": {
      "text/plain": [
       "<matplotlib.axes._subplots.AxesSubplot at 0x23a4a261ba8>"
      ]
     },
     "execution_count": 9,
     "metadata": {},
     "output_type": "execute_result"
    },
    {
     "data": {
      "image/png": "[encoded data removed]",
      "text/plain": [
       "<matplotlib.figure.Figure at 0x23a4a267e10>"
      ]
     },
     "metadata": {},
     "output_type": "display_data"
    }
   ],
   "source": [
    "%matplotlib inline\n",
    "import matplotlib.pyplot as plt\n",
    "import matplotlib\n",
    "matplotlib.style.use('ggplot')\n",
    "\n",
    "counts_series.plot()"
   ]
  },
  {
   "cell_type": "code",
   "execution_count": null,
   "metadata": {},
   "outputs": [],
   "source": [
    ""
   ]
  }
 ],
 "metadata": {
  "anaconda-cloud": {},
  "kernelspec": {
   "display_name": "Python [conda env:ticket_history]",
   "language": "python",
   "name": "conda-env-ticket_history-py"
  },
  "language_info": {
   "codemirror_mode": {
    "name": "ipython",
    "version": 3.0
   },
   "file_extension": ".py",
   "mimetype": "text/x-python",
   "name": "python",
   "nbconvert_exporter": "python",
   "pygments_lexer": "ipython3",
   "version": "3.5.2"
  }
 },
 "nbformat": 4,
 "nbformat_minor": 0
}